{
 "cells": [
  {
   "cell_type": "code",
   "execution_count": 1,
   "metadata": {},
   "outputs": [],
   "source": [
    "from usempl_plots import usempl_streaks as usempl_streaks\n",
    "from usempl_plots import usempl_npp as usempl_npp\n",
    "from usempl_plots import tseries_payems as tseries_payems"
   ]
  },
  {
   "cell_type": "markdown",
   "metadata": {},
   "source": [
    "## Plot US Employment Streaks: line plot and histogram"
   ]
  },
  {
   "cell_type": "code",
   "execution_count": 4,
   "metadata": {},
   "outputs": [
    {
     "name": "stdout",
     "output_type": "stream",
     "text": [
      "Beginning date of U.S. employment series is 1939-01-01\n",
      "End date of U.S. employment series is 2024-12-01\n",
      "PAYEMS data downloaded on 2025-01-21 and has most recent PAYEMS data month of 2024-12-01.\n",
      "Number of streaks: 83\n",
      "\n",
      "Print a table of all streaks.\n",
      "\n",
      "    strk_num start_date end_date  months_in_streak  total_emp_gain  \\\n",
      "0          1    1939-02  1939-03                 2        357000.0   \n",
      "1          2    1939-05  1939-06                 2        408000.0   \n",
      "2          3    1939-08  1940-03                 8       1406000.0   \n",
      "3          4    1940-05  1940-06                 2        276000.0   \n",
      "4          5    1940-08  1943-04                33      10705000.0   \n",
      "..       ...        ...      ...               ...             ...   \n",
      "78        79    2010-03  2010-05                 3        943000.0   \n",
      "79        80    2010-08  2010-08                 1          3000.0   \n",
      "80        81    2010-10  2020-02               113      21969000.0   \n",
      "81        82    2020-05  2020-11                 7      12340000.0   \n",
      "82        83    2021-01  2024-12                48      17018000.0   \n",
      "\n",
      "    avg_monthly_emp_gain  \n",
      "0           1.785000e+05  \n",
      "1           2.040000e+05  \n",
      "2           1.757500e+05  \n",
      "3           1.380000e+05  \n",
      "4           3.243939e+05  \n",
      "..                   ...  \n",
      "78          3.143333e+05  \n",
      "79          3.000000e+03  \n",
      "80          1.944159e+05  \n",
      "81          1.762857e+06  \n",
      "82          3.545417e+05  \n",
      "\n",
      "[83 rows x 6 columns]\n",
      "\n",
      "Print a table of streaks with +40 months or +10,000,000 jobs.\n",
      "\n",
      "    strk_num start_date end_date  months_in_streak  total_emp_gain  \\\n",
      "80        81    2010-10  2020-02               113      21969000.0   \n",
      "82        83    2021-01  2024-12                48      17018000.0   \n",
      "59        60    1986-07  1990-06                48      10702000.0   \n",
      "76        77    2003-09  2007-06                46       7919000.0   \n",
      "53        54    1975-07  1979-03                45      12958000.0   \n",
      "4          5    1940-08  1943-04                33      10705000.0   \n",
      "81        82    2020-05  2020-11                 7      12340000.0   \n",
      "\n",
      "    avg_monthly_emp_gain  \n",
      "80          1.944159e+05  \n",
      "82          3.545417e+05  \n",
      "59          2.229583e+05  \n",
      "76          1.721522e+05  \n",
      "53          2.879556e+05  \n",
      "4           3.243939e+05  \n",
      "81          1.762857e+06  \n",
      "\n",
      "    strk_num start_date end_date  months_in_streak  total_emp_gain  \\\n",
      "5          6    1943-06  1943-06                 1        185000.0   \n",
      "13        14    1948-03  1948-03                 1        150000.0   \n",
      "20        21    1952-02  1952-02                 1        226000.0   \n",
      "25        26    1954-04  1954-04                 1         22000.0   \n",
      "27        28    1956-08  1956-08                 1        676000.0   \n",
      "33        34    1959-09  1959-09                 1         92000.0   \n",
      "35        36    1960-04  1960-04                 1        359000.0   \n",
      "36        37    1961-03  1961-03                 1        102000.0   \n",
      "43        44    1969-10  1969-10                 1        207000.0   \n",
      "44        45    1969-12  1969-12                 1        155000.0   \n",
      "46        47    1970-07  1970-07                 1         24000.0   \n",
      "47        48    1970-09  1970-09                 1          7000.0   \n",
      "51        52    1974-10  1974-10                 1         20000.0   \n",
      "52        53    1975-05  1975-05                 1        164000.0   \n",
      "56        57    1983-01  1983-01                 1        219000.0   \n",
      "60        61    1991-06  1991-06                 1         88000.0   \n",
      "70        71    2001-02  2001-02                 1         87000.0   \n",
      "72        73    2002-08  2002-08                 1          2000.0   \n",
      "73        74    2002-10  2002-10                 1        123000.0   \n",
      "74        75    2003-01  2003-01                 1        111000.0   \n",
      "75        76    2003-05  2003-05                 1         20000.0   \n",
      "79        80    2010-08  2010-08                 1          3000.0   \n",
      "\n",
      "    avg_monthly_emp_gain  \n",
      "5               185000.0  \n",
      "13              150000.0  \n",
      "20              226000.0  \n",
      "25               22000.0  \n",
      "27              676000.0  \n",
      "33               92000.0  \n",
      "35              359000.0  \n",
      "36              102000.0  \n",
      "43              207000.0  \n",
      "44              155000.0  \n",
      "46               24000.0  \n",
      "47                7000.0  \n",
      "51               20000.0  \n",
      "52              164000.0  \n",
      "56              219000.0  \n",
      "60               88000.0  \n",
      "70               87000.0  \n",
      "72                2000.0  \n",
      "73              123000.0  \n",
      "74              111000.0  \n",
      "75               20000.0  \n",
      "79                3000.0  \n"
     ]
    }
   ],
   "source": [
    "(\n",
    "    fig_lst_strk, beg_date_strk_str, end_date_strk_str, strk_table_df\n",
    ") = usempl_streaks(\n",
    "    indicate_recent_line=(\n",
    "        \"Current streak (48 months): \\n 2021-01 to 2024-10\",\n",
    "        70, 270, 30, 19_200_000, 42, 17_200_000\n",
    "    ),\n",
    "    indicate_recent_scat=(\n",
    "        \"Current streak (48 months): \\n 2021-01 to 2024-10\",\n",
    "        120, 150, 40, 680_000, 44.7, 430_000\n",
    "    )\n",
    ")"
   ]
  },
  {
   "cell_type": "markdown",
   "metadata": {},
   "source": [
    "## Plot US Employment Normalized Peak Plot"
   ]
  },
  {
   "cell_type": "code",
   "execution_count": 5,
   "metadata": {},
   "outputs": [
    {
     "name": "stderr",
     "output_type": "stream",
     "text": [
      "/Users/richardevans/Docs/Economics/OSE/DataViz/usempl-plots/usempl_plots/usempl_npp.py:147: FutureWarning: ChainedAssignmentError: behaviour will change in pandas 3.0!\n",
      "You are setting values through chained assignment. Currently this works in certain cases, but when using Copy-on-Write (which will become the default behaviour in pandas 3.0) this will never work to update the original DataFrame or Series, because the intermediate object on which we are setting values will behave as a copy.\n",
      "A typical example is when you are setting values in a column of a DataFrame, like:\n",
      "\n",
      "df[\"col\"][row_indexer] = value\n",
      "\n",
      "Use `df.loc[row_indexer, \"col\"] = values` instead, to perform the assignment in a single step and ensure this keeps updating the original `df`.\n",
      "\n",
      "See the caveats in the documentation: https://pandas.pydata.org/pandas-docs/stable/user_guide/indexing.html#returning-a-view-versus-a-copy\n",
      "\n",
      "  usempl_df[\"PAYEMS\"].iloc[:242] = (\n",
      "/Users/richardevans/Docs/Economics/OSE/DataViz/usempl-plots/usempl_plots/usempl_npp.py:147: SettingWithCopyWarning: \n",
      "A value is trying to be set on a copy of a slice from a DataFrame\n",
      "\n",
      "See the caveats in the documentation: https://pandas.pydata.org/pandas-docs/stable/user_guide/indexing.html#returning-a-view-versus-a-copy\n",
      "  usempl_df[\"PAYEMS\"].iloc[:242] = (\n",
      "BokehDeprecationWarning: 'toggleable' was deprecated in Bokeh 3.4.0 and will be removed, use 'visible' instead.\n"
     ]
    },
    {
     "name": "stdout",
     "output_type": "stream",
     "text": [
      "End date of U.S. employment series is 2024-12-01\n",
      "peak_val 0 is 31324.0 on date 1929-07-01 (Beg. rec. month: Aug 1929 )\n",
      "peak_val 1 is 31011.0 on date 1937-07-01 (Beg. rec. month: May 1937 )\n",
      "peak_val 2 is 41897.0 on date 1945-02-01 (Beg. rec. month: Feb 1945 )\n",
      "peak_val 3 is 45294.0 on date 1948-09-01 (Beg. rec. month: Nov 1948 )\n",
      "peak_val 4 is 50536.0 on date 1953-07-01 (Beg. rec. month: Jul 1953 )\n",
      "peak_val 5 is 53128.0 on date 1957-08-01 (Beg. rec. month: Aug 1957 )\n",
      "peak_val 6 is 54813.0 on date 1960-04-01 (Beg. rec. month: Apr 1960 )\n",
      "peak_val 7 is 71451.0 on date 1970-03-01 (Beg. rec. month: Dec 1969 )\n",
      "peak_val 8 is 78636.0 on date 1974-07-01 (Beg. rec. month: Nov 1973 )\n",
      "peak_val 9 is 90994.0 on date 1980-03-01 (Beg. rec. month: Jan 1980 )\n",
      "peak_val 10 is 91601.0 on date 1981-07-01 (Beg. rec. month: Jul 1981 )\n",
      "peak_val 11 is 109857.0 on date 1990-06-01 (Beg. rec. month: Jul 1990 )\n",
      "peak_val 12 is 132786.0 on date 2001-02-01 (Beg. rec. month: Mar 2001 )\n",
      "peak_val 13 is 138397.0 on date 2008-01-01 (Beg. rec. month: Dec 2007 )\n",
      "peak_val 14 is 152309.0 on date 2020-02-01 (Beg. rec. month: Feb 2020 )\n",
      "PAYEMS data downloaded on 2025-01-21 has most recent PAYEMS data month of 2024-12-01.\n"
     ]
    }
   ],
   "source": [
    "fig_npp, end_date_npp_str = usempl_npp()"
   ]
  },
  {
   "cell_type": "markdown",
   "metadata": {},
   "source": [
    "## Plot US Employment Time Series"
   ]
  },
  {
   "cell_type": "code",
   "execution_count": 6,
   "metadata": {},
   "outputs": [
    {
     "name": "stdout",
     "output_type": "stream",
     "text": [
      "Beginning date of U.S. employment series is 1919-07-01\n",
      "End date of U.S. employment series is 2024-12-01\n",
      "PAYEMS data downloaded on 2025-01-21 and has most recent PAYEMS data month of 2024-12-01.\n"
     ]
    }
   ],
   "source": [
    "fig_tser, beg_date_tser_str, end_date_tser_str = tseries_payems.gen_payems_tseries()"
   ]
  },
  {
   "cell_type": "code",
   "execution_count": null,
   "metadata": {},
   "outputs": [],
   "source": []
  }
 ],
 "metadata": {
  "kernelspec": {
   "display_name": "usempl-plots-dev",
   "language": "python",
   "name": "python3"
  },
  "language_info": {
   "codemirror_mode": {
    "name": "ipython",
    "version": 3
   },
   "file_extension": ".py",
   "mimetype": "text/x-python",
   "name": "python",
   "nbconvert_exporter": "python",
   "pygments_lexer": "ipython3",
   "version": "3.13.0"
  }
 },
 "nbformat": 4,
 "nbformat_minor": 2
}
